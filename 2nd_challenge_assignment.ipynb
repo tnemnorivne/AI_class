{
 "cells": [
  {
   "cell_type": "code",
   "execution_count": 1,
   "id": "8c07ad96-c509-48fe-bc40-250648ea88c6",
   "metadata": {},
   "outputs": [],
   "source": [
    "import numpy as np\n",
    "import tensorflow as tf\n",
    "from tensorflow.keras.models import Sequential\n",
    "from tensorflow.keras.layers import LSTM, Dense, Dropout"
   ]
  },
  {
   "cell_type": "code",
   "execution_count": 2,
   "id": "89a3fc8e-3c52-4299-b93c-dc75ba6ab4bd",
   "metadata": {},
   "outputs": [],
   "source": [
    "# 분류를 위한 시퀀스 생성 함수\n",
    "def split_sequence(sequence, n_steps):\n",
    "    X, y = [], []\n",
    "    for i in range(len(sequence)):\n",
    "        end_ix = i + n_steps\n",
    "        if end_ix > len(sequence) - 1:\n",
    "            break\n",
    "        seq_x, seq_y = sequence[i:end_ix], sequence[end_ix]\n",
    "        X.append(seq_x)\n",
    "        y.append(seq_y // 10)  # 클래스 레이블 생성\n",
    "    return np.array(X), np.array(y)"
   ]
  },
  {
   "cell_type": "code",
   "execution_count": 8,
   "id": "035bc3da-f179-4262-be6a-1803353b97fe",
   "metadata": {},
   "outputs": [
    {
     "name": "stdout",
     "output_type": "stream",
     "text": [
      "X:\n",
      " [[10 20 30]\n",
      " [20 30 40]\n",
      " [30 40 50]\n",
      " [40 50 60]\n",
      " [50 60 70]\n",
      " [60 70 80]]\n",
      "y:\n",
      " [4 5 6 7 8 9]\n"
     ]
    }
   ],
   "source": [
    "# 사용 예시\n",
    "sequence = [10, 20, 30, 40, 50, 60, 70, 80, 90]\n",
    "n_steps = 3\n",
    "X, y = split_sequence(sequence, n_steps)\n",
    "print(\"X:\\n\", X)\n",
    "print(\"y:\\n\", y)"
   ]
  },
  {
   "cell_type": "code",
   "execution_count": 13,
   "id": "bd686deb-ee7f-4605-b897-8c01fec377fe",
   "metadata": {},
   "outputs": [],
   "source": [
    "# LSTM 모델 정의\n",
    "model = Sequential()\n",
    "model.add(LSTM(50, activation='relu', input_shape=(X.shape[1], 1)))\n",
    "model.add(Dropout(0.2))\n",
    "model.add(Dense(10, activation='softmax'))  # 분류 문제를 위해 소프트맥스 사용"
   ]
  },
  {
   "cell_type": "code",
   "execution_count": 14,
   "id": "17e5635a-36a6-4e76-96e5-62182b85449f",
   "metadata": {},
   "outputs": [],
   "source": [
    "# 모델 컴파일\n",
    "model.compile(optimizer='adam', loss='sparse_categorical_crossentropy', metrics=['accuracy'])"
   ]
  },
  {
   "cell_type": "code",
   "execution_count": 15,
   "id": "bc868747-567e-45cc-86f4-f7cd810dcff5",
   "metadata": {},
   "outputs": [],
   "source": [
    "# 데이터 형태 조정\n",
    "X = X.reshape((X.shape[0], X.shape[1], 1))"
   ]
  },
  {
   "cell_type": "code",
   "execution_count": 16,
   "id": "bae3b291-c11b-470d-bea7-cacede6932f1",
   "metadata": {},
   "outputs": [
    {
     "data": {
      "text/plain": [
       "<keras.src.callbacks.history.History at 0x205a86611d0>"
      ]
     },
     "execution_count": 16,
     "metadata": {},
     "output_type": "execute_result"
    }
   ],
   "source": [
    "# 모델 학습\n",
    "model.fit(X, y, epochs=200, verbose=0)"
   ]
  },
  {
   "cell_type": "code",
   "execution_count": 17,
   "id": "4011e55d-5761-4df1-ab01-88024b17186d",
   "metadata": {},
   "outputs": [
    {
     "name": "stdout",
     "output_type": "stream",
     "text": [
      "\u001b[1m1/1\u001b[0m \u001b[32m━━━━━━━━━━━━━━━━━━━━\u001b[0m\u001b[37m\u001b[0m \u001b[1m0s\u001b[0m 339ms/step\n",
      "Predictions:\n",
      " [[1.63724589e-10 1.24661637e-09 5.86521744e-17 5.15230580e-10\n",
      "  9.76262629e-01 2.37229429e-02 1.43827174e-05 2.91326512e-11\n",
      "  2.95829137e-14 1.42352030e-09]\n",
      " [3.72006383e-07 2.55479051e-07 2.05135578e-13 2.61151996e-07\n",
      "  5.64711690e-01 4.30918187e-01 4.36464231e-03 3.37582435e-07\n",
      "  4.68948491e-10 4.27118175e-06]\n",
      " [5.41623402e-03 1.73511682e-03 2.85364331e-05 3.58742801e-03\n",
      "  8.10246989e-02 1.69969723e-01 6.05666935e-01 1.07444234e-01\n",
      "  6.27160119e-03 1.88555047e-02]\n",
      " [1.76260471e-02 7.19095347e-03 1.48901495e-03 2.58164201e-02\n",
      "  2.84221489e-02 6.48728311e-02 3.70969087e-01 2.75771528e-01\n",
      "  1.09549776e-01 9.82922539e-02]\n",
      " [2.01805253e-02 9.82237887e-03 4.47973609e-03 5.48666231e-02\n",
      "  1.35134747e-02 5.21692149e-02 2.03848600e-01 1.55067220e-01\n",
      "  2.48043999e-01 2.38008201e-01]\n",
      " [1.50299277e-02 8.12582113e-03 5.82167879e-03 7.03798607e-02\n",
      "  5.47121232e-03 3.96738201e-02 1.00991383e-01 6.53839186e-02\n",
      "  3.09939891e-01 3.79182458e-01]]\n"
     ]
    }
   ],
   "source": [
    "# 예측\n",
    "y_pred = model.predict(X)\n",
    "print(\"Predictions:\\n\", y_pred)"
   ]
  }
 ],
 "metadata": {
  "kernelspec": {
   "display_name": "Python 3 (ipykernel)",
   "language": "python",
   "name": "python3"
  },
  "language_info": {
   "codemirror_mode": {
    "name": "ipython",
    "version": 3
   },
   "file_extension": ".py",
   "mimetype": "text/x-python",
   "name": "python",
   "nbconvert_exporter": "python",
   "pygments_lexer": "ipython3",
   "version": "3.11.7"
  }
 },
 "nbformat": 4,
 "nbformat_minor": 5
}
